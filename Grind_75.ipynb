{
  "nbformat": 4,
  "nbformat_minor": 0,
  "metadata": {
    "colab": {
      "provenance": [],
      "authorship_tag": "ABX9TyO7PH7OoidGTtwnTiWJ17i+"
    },
    "kernelspec": {
      "name": "python3",
      "display_name": "Python 3"
    },
    "language_info": {
      "name": "python"
    }
  },
  "cells": [
    {
      "cell_type": "code",
      "source": [
        "from typing import List"
      ],
      "metadata": {
        "id": "VE8ziW5MsDKG"
      },
      "execution_count": 3,
      "outputs": []
    },
    {
      "cell_type": "markdown",
      "source": [
        "# TWO SUM\n",
        "\n",
        "Given an array of integers nums and an integer target, return indices of the two numbers such that they add up to target.\n",
        "\n",
        "You may assume that each input would have exactly one solution, and you may not use the same element twice.\n",
        "\n",
        "You can return the answer in any order.\n",
        "\n",
        "\n",
        "\n",
        "Example 1:\n",
        "\n",
        "Input: nums = [2,7,11,15], target = 9\n",
        "Output: [0,1]\n",
        "Explanation: Because nums[0] + nums[1] == 9, we return [0, 1].\n",
        "Example 2:\n",
        "\n",
        "Input: nums = [3,2,4], target = 6\n",
        "Output: [1,2]\n",
        "Example 3:\n",
        "\n",
        "Input: nums = [3,3], target = 6\n",
        "Output: [0,1]"
      ],
      "metadata": {
        "id": "_bUr2xBerK0b"
      }
    },
    {
      "cell_type": "code",
      "execution_count": 9,
      "metadata": {
        "colab": {
          "base_uri": "https://localhost:8080/"
        },
        "id": "mHi7MMjRpwiO",
        "outputId": "405d7192-d69e-47d4-a78f-efb08e774223"
      },
      "outputs": [
        {
          "output_type": "stream",
          "name": "stdout",
          "text": [
            "[0, 1]\n",
            "[1, 2]\n",
            "[0, 1]\n"
          ]
        }
      ],
      "source": [
        "class Solution:\n",
        "   def twoSum(self, nums: List[int], target: int) -> List[int]:\n",
        "    prevMap = {}\n",
        "\n",
        "    for i, n in enumerate(nums):\n",
        "      diff = target - n\n",
        "      if diff in prevMap:\n",
        "        return [prevMap[diff],i]\n",
        "      prevMap[n] = i\n",
        "\n",
        "solution = Solution()\n",
        "print(solution.twoSum([2,7,11,15],9))\n",
        "print(solution.twoSum([3,2,4],6))\n",
        "print(solution.twoSum([3,3],6))\n",
        "\n",
        "\n",
        "# Time = O(n)\n",
        "# Memory = O(n)"
      ]
    },
    {
      "cell_type": "markdown",
      "source": [
        "# Valid Parentheses\n",
        "\n",
        "Given a string s containing just the characters '(', ')', '{', '}', '[' and ']', determine if the input string is valid.\n",
        "\n",
        "An input string is valid if:\n",
        "\n",
        "Open brackets must be closed by the same type of brackets.\n",
        "Open brackets must be closed in the correct order.\n",
        "Every close bracket has a corresponding open bracket of the same type.\n",
        "\n",
        "\n",
        "Example 1:\n",
        "\n",
        "Input: s = \"()\"\n",
        "Output: true\n",
        "Example 2:\n",
        "\n",
        "Input: s = \"()[]{}\"\n",
        "Output: true\n",
        "Example 3:\n",
        "\n",
        "Input: s = \"(]\"\n",
        "Output: false\n",
        "\n",
        "\n",
        "Constraints:\n",
        "\n",
        "1 <= s.length <= 104\n",
        "s consists of parentheses only '()[]{}'.\n"
      ],
      "metadata": {
        "id": "faeWGRf5vfIv"
      }
    },
    {
      "cell_type": "code",
      "source": [
        "class Solution:\n",
        "    def isValid(self, s: str) -> bool:\n",
        "      stack = []\n",
        "\n",
        "      closeToOpen = {\")\":\"(\",\"]\":\"[\",\"}\":\"{\"}\n",
        "\n",
        "      for c in s:\n",
        "        if c in closeToOpen:\n",
        "          if stack and stack[-1] == closeToOpen[c]:\n",
        "            stack.pop()\n",
        "          else:\n",
        "            return False\n",
        "        else:\n",
        "          stack.append(c)\n",
        "\n",
        "      if not stack:\n",
        "        return True\n",
        "      else:\n",
        "        return False\n",
        "\n",
        "\n",
        "solution = Solution()\n",
        "\n",
        "print(solution.isValid(\"()\"))\n",
        "print(solution.isValid(\"()[]{}\"))\n",
        "print(solution.isValid(\"(]\"))"
      ],
      "metadata": {
        "colab": {
          "base_uri": "https://localhost:8080/"
        },
        "id": "G90Y4ha-r1BW",
        "outputId": "e3743e8f-4310-4847-de2e-24950a3145e6"
      },
      "execution_count": 17,
      "outputs": [
        {
          "output_type": "stream",
          "name": "stdout",
          "text": [
            "True\n",
            "True\n",
            "False\n"
          ]
        }
      ]
    },
    {
      "cell_type": "code",
      "source": [],
      "metadata": {
        "id": "u7p-fgZAyk13"
      },
      "execution_count": null,
      "outputs": []
    }
  ]
}