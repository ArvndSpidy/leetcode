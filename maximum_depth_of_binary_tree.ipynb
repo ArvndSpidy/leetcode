{
  "nbformat": 4,
  "nbformat_minor": 0,
  "metadata": {
    "colab": {
      "provenance": [],
      "authorship_tag": "ABX9TyPHVVFY8qo0kIWW3wuUnVlU"
    },
    "kernelspec": {
      "name": "python3",
      "display_name": "Python 3"
    },
    "language_info": {
      "name": "python"
    }
  },
  "cells": [
    {
      "cell_type": "code",
      "execution_count": 25,
      "metadata": {
        "id": "ok04b4axrP4z"
      },
      "outputs": [],
      "source": [
        "# https://leetcode.com/problems/maximum-depth-of-binary-tree/\n",
        "\n",
        "\n",
        "class TreeNode:\n",
        "  def __init__(self, val, left = None, right = None):\n",
        "    self.val = val\n",
        "    self.left = left\n",
        "    self.right = right\n",
        "\n",
        "a = TreeNode(3)\n",
        "b = TreeNode(9)\n",
        "c = TreeNode(20)\n",
        "d = TreeNode(15)\n",
        "e = TreeNode(7)\n",
        "\n",
        "# a\n",
        "# /\\\n",
        "# b c\n",
        "#   /\\\n",
        "#   d e\n",
        "\n",
        "a.left = b\n",
        "a.right = c\n",
        "c.left = d\n",
        "c.right = e\n"
      ]
    },
    {
      "cell_type": "code",
      "source": [
        "# recurssion\n",
        "class Solution:\n",
        "    def maxDepth(self, root: TreeNode) -> int:\n",
        "        if not root:\n",
        "          return 0\n",
        "        return 1 + max(self.maxDepth(root.left),self.maxDepth(root.right))\n",
        "\n",
        "solution = Solution()\n",
        "print(solution.maxDepth(a))"
      ],
      "metadata": {
        "colab": {
          "base_uri": "https://localhost:8080/"
        },
        "id": "U7Hiy7rjr7ue",
        "outputId": "982f8059-82c6-4a6f-cd36-110cf0c45904"
      },
      "execution_count": 26,
      "outputs": [
        {
          "output_type": "stream",
          "name": "stdout",
          "text": [
            "3\n"
          ]
        }
      ]
    },
    {
      "cell_type": "code",
      "source": [
        "# iterative breadth first search\n",
        "\n",
        "# just count the number of levels\n",
        "from collections import deque\n",
        "class Solution2:\n",
        "    def maxDepth(self, root: TreeNode) -> int:\n",
        "        if not root:\n",
        "          return 0\n",
        "        level = 0\n",
        "        q = deque([root])\n",
        "\n",
        "        while q:\n",
        "          for i in range(len(q)):\n",
        "            node = q.popleft()\n",
        "            if node.left:\n",
        "              q.append(node.left)\n",
        "            if node.right:\n",
        "              q.append(node.right)\n",
        "          level += 1\n",
        "        return level\n",
        "\n",
        "solution = Solution2()\n",
        "print(solution.maxDepth(a))\n"
      ],
      "metadata": {
        "colab": {
          "base_uri": "https://localhost:8080/"
        },
        "id": "TjCa9v4Gstg6",
        "outputId": "1f3c68a7-92e4-41c8-9b93-e75b765afce0"
      },
      "execution_count": 27,
      "outputs": [
        {
          "output_type": "stream",
          "name": "stdout",
          "text": [
            "3\n"
          ]
        }
      ]
    },
    {
      "cell_type": "code",
      "source": [
        "# iterative depth first search\n",
        "class Solution3:\n",
        "    def maxDepth(self, root: TreeNode) -> int:\n",
        "        stack = [[root,1]]\n",
        "        res = 0\n",
        "\n",
        "        while stack:\n",
        "          node,depth = stack.pop()\n",
        "\n",
        "          if node:\n",
        "            res = max(res, depth)\n",
        "            stack.append([node.left, depth + 1])\n",
        "            stack.append([node.right, depth + 1])\n",
        "        return res\n",
        "\n",
        "solution = Solution3()\n",
        "print(solution.maxDepth(a))\n"
      ],
      "metadata": {
        "colab": {
          "base_uri": "https://localhost:8080/"
        },
        "id": "IAWueX1DyKdj",
        "outputId": "b61fdaa6-79af-41ce-9017-dff3d1737ae4"
      },
      "execution_count": 28,
      "outputs": [
        {
          "output_type": "stream",
          "name": "stdout",
          "text": [
            "3\n"
          ]
        }
      ]
    },
    {
      "cell_type": "code",
      "source": [],
      "metadata": {
        "id": "l1D1QT5J68p2"
      },
      "execution_count": null,
      "outputs": []
    }
  ]
}